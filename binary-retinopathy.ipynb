{
 "cells": [
  {
   "cell_type": "code",
   "execution_count": 32,
   "metadata": {
    "_cell_guid": "79c7e3d0-c299-4dcb-8224-4455121ee9b0",
    "_uuid": "d629ff2d2480ee46fbb7e2d37f6b5fab8052498a",
    "execution": {
     "iopub.execute_input": "2021-11-13T15:29:12.327087Z",
     "iopub.status.busy": "2021-11-13T15:29:12.326536Z",
     "iopub.status.idle": "2021-11-13T15:29:18.611886Z",
     "shell.execute_reply": "2021-11-13T15:29:18.610620Z",
     "shell.execute_reply.started": "2021-11-13T15:29:12.327025Z"
    },
    "papermill": {
     "duration": 5.370337,
     "end_time": "2021-11-13T15:42:44.769852",
     "exception": false,
     "start_time": "2021-11-13T15:42:39.399515",
     "status": "completed"
    },
    "tags": []
   },
   "outputs": [],
   "source": [
    "from tensorflow import lite\n",
    "import tensorflow as tf\n",
    "from tensorflow import keras\n",
    "from tensorflow.keras import layers\n",
    "import numpy as np\n",
    "import pandas as pd\n",
    "import random, os\n",
    "import shutil\n",
    "import matplotlib.pyplot as plt\n",
    "from matplotlib.image import imread\n",
    "from keras.preprocessing.image import ImageDataGenerator\n",
    "from tensorflow.keras.metrics import categorical_accuracy\n",
    "from sklearn.model_selection import train_test_split"
   ]
  },
  {
   "cell_type": "code",
   "execution_count": 34,
   "metadata": {
    "execution": {
     "iopub.execute_input": "2021-11-13T15:29:18.614890Z",
     "iopub.status.busy": "2021-11-13T15:29:18.614249Z",
     "iopub.status.idle": "2021-11-13T15:29:18.666625Z",
     "shell.execute_reply": "2021-11-13T15:29:18.665604Z",
     "shell.execute_reply.started": "2021-11-13T15:29:18.614679Z"
    },
    "papermill": {
     "duration": 0.059619,
     "end_time": "2021-11-13T15:42:44.837297",
     "exception": false,
     "start_time": "2021-11-13T15:42:44.777678",
     "status": "completed"
    },
    "tags": []
   },
   "outputs": [
    {
     "data": {
      "text/html": [
       "<div>\n",
       "<style scoped>\n",
       "    .dataframe tbody tr th:only-of-type {\n",
       "        vertical-align: middle;\n",
       "    }\n",
       "\n",
       "    .dataframe tbody tr th {\n",
       "        vertical-align: top;\n",
       "    }\n",
       "\n",
       "    .dataframe thead th {\n",
       "        text-align: right;\n",
       "    }\n",
       "</style>\n",
       "<table border=\"1\" class=\"dataframe\">\n",
       "  <thead>\n",
       "    <tr style=\"text-align: right;\">\n",
       "      <th></th>\n",
       "      <th>id_code</th>\n",
       "      <th>diagnosis</th>\n",
       "      <th>binary_type</th>\n",
       "      <th>type</th>\n",
       "    </tr>\n",
       "  </thead>\n",
       "  <tbody>\n",
       "    <tr>\n",
       "      <th>0</th>\n",
       "      <td>000c1434d8d7</td>\n",
       "      <td>2</td>\n",
       "      <td>DR</td>\n",
       "      <td>Moderate</td>\n",
       "    </tr>\n",
       "    <tr>\n",
       "      <th>1</th>\n",
       "      <td>001639a390f0</td>\n",
       "      <td>4</td>\n",
       "      <td>DR</td>\n",
       "      <td>Proliferate_DR</td>\n",
       "    </tr>\n",
       "    <tr>\n",
       "      <th>2</th>\n",
       "      <td>0024cdab0c1e</td>\n",
       "      <td>1</td>\n",
       "      <td>DR</td>\n",
       "      <td>Mild</td>\n",
       "    </tr>\n",
       "    <tr>\n",
       "      <th>3</th>\n",
       "      <td>002c21358ce6</td>\n",
       "      <td>0</td>\n",
       "      <td>No_DR</td>\n",
       "      <td>No_DR</td>\n",
       "    </tr>\n",
       "    <tr>\n",
       "      <th>4</th>\n",
       "      <td>005b95c28852</td>\n",
       "      <td>0</td>\n",
       "      <td>No_DR</td>\n",
       "      <td>No_DR</td>\n",
       "    </tr>\n",
       "  </tbody>\n",
       "</table>\n",
       "</div>"
      ],
      "text/plain": [
       "        id_code  diagnosis binary_type            type\n",
       "0  000c1434d8d7          2          DR        Moderate\n",
       "1  001639a390f0          4          DR  Proliferate_DR\n",
       "2  0024cdab0c1e          1          DR            Mild\n",
       "3  002c21358ce6          0       No_DR           No_DR\n",
       "4  005b95c28852          0       No_DR           No_DR"
      ]
     },
     "execution_count": 34,
     "metadata": {},
     "output_type": "execute_result"
    }
   ],
   "source": [
    "# Add an additional column, mapping to the type\n",
    "df = pd.read_csv('train.csv')\n",
    "\n",
    "diagnosis_dict_binary = {\n",
    "    0: 'No_DR',\n",
    "    1: 'DR',\n",
    "    2: 'DR',\n",
    "    3: 'DR',\n",
    "    4: 'DR'\n",
    "}\n",
    "\n",
    "diagnosis_dict = {\n",
    "    0: 'No_DR',\n",
    "    1: 'Mild',\n",
    "    2: 'Moderate',\n",
    "    3: 'Severe',\n",
    "    4: 'Proliferate_DR',\n",
    "}\n",
    "\n",
    "\n",
    "df['binary_type'] =  df['diagnosis'].map(diagnosis_dict_binary.get)\n",
    "df['type'] = df['diagnosis'].map(diagnosis_dict.get)\n",
    "df.head()"
   ]
  },
  {
   "cell_type": "code",
   "execution_count": 35,
   "metadata": {
    "execution": {
     "iopub.execute_input": "2021-11-13T15:29:18.669100Z",
     "iopub.status.busy": "2021-11-13T15:29:18.668409Z",
     "iopub.status.idle": "2021-11-13T15:29:18.872444Z",
     "shell.execute_reply": "2021-11-13T15:29:18.871120Z",
     "shell.execute_reply.started": "2021-11-13T15:29:18.669033Z"
    },
    "papermill": {
     "duration": 0.178174,
     "end_time": "2021-11-13T15:42:45.023194",
     "exception": false,
     "start_time": "2021-11-13T15:42:44.845020",
     "status": "completed"
    },
    "tags": []
   },
   "outputs": [
    {
     "data": {
      "text/plain": [
       "<AxesSubplot:>"
      ]
     },
     "execution_count": 35,
     "metadata": {},
     "output_type": "execute_result"
    },
    {
     "data": {
      "image/png": "[encoded data removed]",
      "text/plain": [
       "<Figure size 432x288 with 1 Axes>"
      ]
     },
     "metadata": {
      "needs_background": "light"
     },
     "output_type": "display_data"
    }
   ],
   "source": [
    "df['type'].value_counts().plot(kind='barh')"
   ]
  },
  {
   "cell_type": "code",
   "execution_count": 36,
   "metadata": {
    "execution": {
     "iopub.execute_input": "2021-11-13T15:29:18.874531Z",
     "iopub.status.busy": "2021-11-13T15:29:18.874114Z",
     "iopub.status.idle": "2021-11-13T15:29:19.018980Z",
     "shell.execute_reply": "2021-11-13T15:29:19.018105Z",
     "shell.execute_reply.started": "2021-11-13T15:29:18.874429Z"
    },
    "papermill": {
     "duration": 0.13094,
     "end_time": "2021-11-13T15:42:45.162496",
     "exception": false,
     "start_time": "2021-11-13T15:42:45.031556",
     "status": "completed"
    },
    "tags": []
   },
   "outputs": [
    {
     "data": {
      "text/plain": [
       "<AxesSubplot:>"
      ]
     },
     "execution_count": 36,
     "metadata": {},
     "output_type": "execute_result"
    },
    {
     "data": {
      "image/png": "[encoded data removed]",
      "text/plain": [
       "<Figure size 432x288 with 1 Axes>"
      ]
     },
     "metadata": {
      "needs_background": "light"
     },
     "output_type": "display_data"
    }
   ],
   "source": [
    "df['binary_type'].value_counts().plot(kind='barh')"
   ]
  },
  {
   "cell_type": "code",
   "execution_count": 37,
   "metadata": {
    "execution": {
     "iopub.execute_input": "2021-11-13T15:29:19.021331Z",
     "iopub.status.busy": "2021-11-13T15:29:19.020899Z",
     "iopub.status.idle": "2021-11-13T15:29:19.051937Z",
     "shell.execute_reply": "2021-11-13T15:29:19.050664Z",
     "shell.execute_reply.started": "2021-11-13T15:29:19.021288Z"
    },
    "papermill": {
     "duration": 0.040633,
     "end_time": "2021-11-13T15:42:45.212151",
     "exception": false,
     "start_time": "2021-11-13T15:42:45.171518",
     "status": "completed"
    },
    "tags": []
   },
   "outputs": [
    {
     "name": "stdout",
     "output_type": "stream",
     "text": [
      "No_DR             1263\n",
      "Moderate           699\n",
      "Mild               258\n",
      "Proliferate_DR     207\n",
      "Severe             135\n",
      "Name: type, dtype: int64 \n",
      "\n",
      "No_DR             271\n",
      "Moderate          150\n",
      "Mild               56\n",
      "Proliferate_DR     44\n",
      "Severe             29\n",
      "Name: type, dtype: int64 \n",
      "\n",
      "No_DR             271\n",
      "Moderate          150\n",
      "Mild               56\n",
      "Proliferate_DR     44\n",
      "Severe             29\n",
      "Name: type, dtype: int64 \n",
      "\n"
     ]
    }
   ],
   "source": [
    "# Split into stratified train, val, and test sets\n",
    "train_intermediate, val = train_test_split(df, test_size = 0.15, stratify = df['type'])\n",
    "train, test = train_test_split(train_intermediate, test_size = 0.15 / (1 - 0.15), stratify = train_intermediate['type'])\n",
    "\n",
    "print(train['type'].value_counts(), '\\n')\n",
    "print(test['type'].value_counts(), '\\n')\n",
    "print(val['type'].value_counts(), '\\n')\n"
   ]
  },
  {
   "cell_type": "code",
   "execution_count": 38,
   "metadata": {
    "execution": {
     "iopub.execute_input": "2021-11-13T15:29:19.054078Z",
     "iopub.status.busy": "2021-11-13T15:29:19.053737Z",
     "iopub.status.idle": "2021-11-13T15:29:19.062815Z",
     "shell.execute_reply": "2021-11-13T15:29:19.061545Z",
     "shell.execute_reply.started": "2021-11-13T15:29:19.054028Z"
    },
    "papermill": {
     "duration": 0.020958,
     "end_time": "2021-11-13T15:42:45.243410",
     "exception": false,
     "start_time": "2021-11-13T15:42:45.222452",
     "status": "completed"
    },
    "tags": []
   },
   "outputs": [],
   "source": [
    "# Create working directories for train/val/test\n",
    "base_dir = ''\n",
    "\n",
    "train_dir = os.path.join(base_dir, 'train')\n",
    "val_dir = os.path.join(base_dir, 'val')\n",
    "test_dir = os.path.join(base_dir, 'test')\n",
    "\n",
    "if os.path.exists(base_dir):\n",
    "    shutil.rmtree(base_dir)\n",
    "\n",
    "if os.path.exists(train_dir):\n",
    "    shutil.rmtree(train_dir)\n",
    "os.makedirs(train_dir)\n",
    "\n",
    "if os.path.exists(val_dir):\n",
    "    shutil.rmtree(val_dir)\n",
    "os.makedirs(val_dir)\n",
    "\n",
    "if os.path.exists(test_dir):\n",
    "    shutil.rmtree(test_dir)\n",
    "os.makedirs(test_dir)\n"
   ]
  },
  {
   "cell_type": "code",
   "execution_count": 39,
   "metadata": {
    "execution": {
     "iopub.execute_input": "2021-11-13T15:29:19.065157Z",
     "iopub.status.busy": "2021-11-13T15:29:19.064523Z",
     "iopub.status.idle": "2021-11-13T15:29:54.095526Z",
     "shell.execute_reply": "2021-11-13T15:29:54.094161Z",
     "shell.execute_reply.started": "2021-11-13T15:29:19.065085Z"
    },
    "papermill": {
     "duration": 33.87362,
     "end_time": "2021-11-13T15:43:19.126580",
     "exception": false,
     "start_time": "2021-11-13T15:42:45.252960",
     "status": "completed"
    },
    "tags": []
   },
   "outputs": [],
   "source": [
    "# Copy images to respective working directory\n",
    "src_dir = 'gaussian_filtered_images'\n",
    "for index, row in train.iterrows():\n",
    "    diagnosis = row['type']\n",
    "    binary_diagnosis = row['binary_type']\n",
    "    id_code = row['id_code'] + \".png\"\n",
    "    srcfile = os.path.join(src_dir, diagnosis, id_code)\n",
    "    dstfile = os.path.join(train_dir, binary_diagnosis)\n",
    "    os.makedirs(dstfile, exist_ok = True)\n",
    "    shutil.copy(srcfile, dstfile)\n",
    "\n",
    "for index, row in val.iterrows():\n",
    "    diagnosis = row['type']\n",
    "    binary_diagnosis = row['binary_type']\n",
    "    id_code = row['id_code'] + \".png\"\n",
    "    srcfile = os.path.join(src_dir, diagnosis, id_code)\n",
    "    dstfile = os.path.join(val_dir, binary_diagnosis)\n",
    "    os.makedirs(dstfile, exist_ok = True)\n",
    "    shutil.copy(srcfile, dstfile)\n",
    " \n",
    "for index, row in test.iterrows():\n",
    "    diagnosis = row['type']\n",
    "    binary_diagnosis = row['binary_type']\n",
    "    id_code = row['id_code'] + \".png\"\n",
    "    srcfile = os.path.join(src_dir, diagnosis, id_code)\n",
    "    dstfile = os.path.join(test_dir, binary_diagnosis)\n",
    "    os.makedirs(dstfile, exist_ok = True)\n",
    "    shutil.copy(srcfile, dstfile)\n"
   ]
  },
  {
   "cell_type": "code",
   "execution_count": 40,
   "metadata": {
    "execution": {
     "iopub.execute_input": "2021-11-13T15:29:54.097708Z",
     "iopub.status.busy": "2021-11-13T15:29:54.097076Z",
     "iopub.status.idle": "2021-11-13T15:29:54.520976Z",
     "shell.execute_reply": "2021-11-13T15:29:54.519738Z",
     "shell.execute_reply.started": "2021-11-13T15:29:54.097643Z"
    },
    "papermill": {
     "duration": 0.332939,
     "end_time": "2021-11-13T15:43:19.470672",
     "exception": false,
     "start_time": "2021-11-13T15:43:19.137733",
     "status": "completed"
    },
    "tags": []
   },
   "outputs": [
    {
     "name": "stdout",
     "output_type": "stream",
     "text": [
      "Found 2562 images belonging to 2 classes.\n",
      "Found 550 images belonging to 2 classes.\n",
      "Found 550 images belonging to 2 classes.\n"
     ]
    }
   ],
   "source": [
    "# Setting up ImageDataGenerator for train/val/test \n",
    "\n",
    "train_path = 'train'\n",
    "val_path = 'val'\n",
    "test_path = 'test'\n",
    "\n",
    "train_batches = ImageDataGenerator(rescale = 1./255).flow_from_directory(train_path, target_size=(224,224), shuffle = True)\n",
    "val_batches = ImageDataGenerator(rescale = 1./255).flow_from_directory(val_path, target_size=(224,224), shuffle = True)\n",
    "test_batches = ImageDataGenerator(rescale = 1./255).flow_from_directory(test_path, target_size=(224,224), shuffle = False)\n"
   ]
  },
  {
   "cell_type": "code",
   "execution_count": 41,
   "metadata": {
    "execution": {
     "iopub.execute_input": "2021-11-13T15:29:54.522684Z",
     "iopub.status.busy": "2021-11-13T15:29:54.522208Z",
     "iopub.status.idle": "2021-11-13T15:40:04.477942Z",
     "shell.execute_reply": "2021-11-13T15:40:04.476690Z",
     "shell.execute_reply.started": "2021-11-13T15:29:54.522628Z"
    },
    "papermill": {
     "duration": 553.230079,
     "end_time": "2021-11-13T15:52:32.710989",
     "exception": false,
     "start_time": "2021-11-13T15:43:19.480910",
     "status": "completed"
    },
    "tags": []
   },
   "outputs": [
    {
     "name": "stdout",
     "output_type": "stream",
     "text": [
      "Epoch 1/12\n"
     ]
    },
    {
     "name": "stderr",
     "output_type": "stream",
     "text": [
      "/home/suraj-srivaastav/.local/lib/python3.10/site-packages/keras/optimizers/optimizer_v2/adam.py:110: UserWarning: The `lr` argument is deprecated, use `learning_rate` instead.\n",
      "  super(Adam, self).__init__(name, **kwargs)\n"
     ]
    },
    {
     "name": "stdout",
     "output_type": "stream",
     "text": [
      "81/81 [==============================] - 9s 111ms/step - loss: 0.4295 - acc: 0.8150 - val_loss: 0.6951 - val_acc: 0.5073\n",
      "Epoch 2/12\n",
      "81/81 [==============================] - 9s 111ms/step - loss: 0.2539 - acc: 0.9063 - val_loss: 0.8263 - val_acc: 0.5073\n",
      "Epoch 3/12\n",
      "81/81 [==============================] - 9s 112ms/step - loss: 0.2272 - acc: 0.9196 - val_loss: 0.8684 - val_acc: 0.5073\n",
      "Epoch 4/12\n",
      "81/81 [==============================] - 9s 112ms/step - loss: 0.2124 - acc: 0.9262 - val_loss: 0.7371 - val_acc: 0.5545\n",
      "Epoch 5/12\n",
      "81/81 [==============================] - 9s 111ms/step - loss: 0.2007 - acc: 0.9356 - val_loss: 0.5503 - val_acc: 0.6364\n",
      "Epoch 6/12\n",
      "81/81 [==============================] - 9s 111ms/step - loss: 0.1900 - acc: 0.9391 - val_loss: 0.3330 - val_acc: 0.8600\n",
      "Epoch 7/12\n",
      "81/81 [==============================] - 9s 114ms/step - loss: 0.1762 - acc: 0.9438 - val_loss: 0.2583 - val_acc: 0.9073\n",
      "Epoch 8/12\n",
      "81/81 [==============================] - 9s 114ms/step - loss: 0.1739 - acc: 0.9407 - val_loss: 0.1986 - val_acc: 0.9236\n",
      "Epoch 9/12\n",
      "81/81 [==============================] - 9s 113ms/step - loss: 0.1620 - acc: 0.9461 - val_loss: 0.1850 - val_acc: 0.9364\n",
      "Epoch 10/12\n",
      "81/81 [==============================] - 9s 112ms/step - loss: 0.1585 - acc: 0.9477 - val_loss: 0.1786 - val_acc: 0.9418\n",
      "Epoch 11/12\n",
      "81/81 [==============================] - 9s 113ms/step - loss: 0.1510 - acc: 0.9496 - val_loss: 0.1756 - val_acc: 0.9436\n",
      "Epoch 12/12\n",
      "81/81 [==============================] - 9s 113ms/step - loss: 0.1446 - acc: 0.9528 - val_loss: 0.1717 - val_acc: 0.9455\n"
     ]
    }
   ],
   "source": [
    "# Building the model\n",
    "\n",
    "model = tf.keras.Sequential([\n",
    "    layers.Conv2D(8, (3,3), padding=\"valid\", input_shape=(224,224,3), activation = 'relu'),\n",
    "    layers.MaxPooling2D(pool_size=(2,2)),\n",
    "    layers.BatchNormalization(),\n",
    "    \n",
    "    layers.Conv2D(16, (3,3), padding=\"valid\", activation = 'relu'),\n",
    "    layers.MaxPooling2D(pool_size=(2,2)),\n",
    "    layers.BatchNormalization(),\n",
    "    \n",
    "    layers.Conv2D(32, (4,4), padding=\"valid\", activation = 'relu'),\n",
    "    layers.MaxPooling2D(pool_size=(2,2)),\n",
    "    layers.BatchNormalization(),\n",
    " \n",
    "    layers.Flatten(),\n",
    "    layers.Dense(32, activation = 'relu'),\n",
    "    layers.Dropout(0.15),\n",
    "    layers.Dense(2, activation = 'softmax')\n",
    "])\n",
    "\n",
    "model.compile(optimizer=tf.keras.optimizers.Adam(lr = 1e-5),\n",
    "              loss=tf.keras.losses.BinaryCrossentropy(),\n",
    "              metrics=['acc'])\n",
    "\n",
    "history = model.fit(train_batches,\n",
    "                    epochs=12,\n",
    "                    validation_data=val_batches)"
   ]
  },
  {
   "cell_type": "code",
   "execution_count": 43,
   "metadata": {
    "execution": {
     "iopub.execute_input": "2021-11-13T15:40:26.552989Z",
     "iopub.status.busy": "2021-11-13T15:40:26.552158Z",
     "iopub.status.idle": "2021-11-13T15:40:30.241877Z",
     "shell.execute_reply": "2021-11-13T15:40:30.240868Z",
     "shell.execute_reply.started": "2021-11-13T15:40:26.552860Z"
    },
    "papermill": {
     "duration": 3.725333,
     "end_time": "2021-11-13T15:52:36.684994",
     "exception": false,
     "start_time": "2021-11-13T15:52:32.959661",
     "status": "completed"
    },
    "tags": []
   },
   "outputs": [
    {
     "name": "stdout",
     "output_type": "stream",
     "text": [
      " 1/18 [>.............................] - ETA: 1s - loss: 0.0888 - acc: 0.9688"
     ]
    },
    {
     "name": "stderr",
     "output_type": "stream",
     "text": [
      "/tmp/ipykernel_12933/4010420734.py:1: UserWarning: `Model.evaluate_generator` is deprecated and will be removed in a future version. Please use `Model.evaluate`, which supports generators.\n",
      "  loss, acc = model.evaluate_generator(test_batches, verbose=1)\n"
     ]
    },
    {
     "name": "stdout",
     "output_type": "stream",
     "text": [
      "18/18 [==============================] - 1s 54ms/step - loss: 0.1865 - acc: 0.9400\n",
      "Accuracy:  0.9399999976158142\n"
     ]
    }
   ],
   "source": [
    "loss, acc = model.evaluate_generator(test_batches, verbose=1)\n",
    "# print(\"Loss: \", loss)\n",
    "print(\"Accuracy: \", acc)\n"
   ]
  }
 ],
 "metadata": {
  "kernelspec": {
   "display_name": "Python 3",
   "language": "python",
   "name": "python3"
  },
  "language_info": {
   "codemirror_mode": {
    "name": "ipython",
    "version": 3
   },
   "file_extension": ".py",
   "mimetype": "text/x-python",
   "name": "python",
   "nbconvert_exporter": "python",
   "pygments_lexer": "ipython3",
   "version": "3.7.6"
  },
  "papermill": {
   "duration": 602.481608,
   "end_time": "2021-11-13T15:52:38.045101",
   "environment_variables": {},
   "exception": null,
   "input_path": "__notebook__.ipynb",
   "output_path": "__notebook__.ipynb",
   "parameters": {},
   "start_time": "2021-11-13T15:42:35.563493",
   "version": "1.2.1"
  }
 },
 "nbformat": 4,
 "nbformat_minor": 4
}
