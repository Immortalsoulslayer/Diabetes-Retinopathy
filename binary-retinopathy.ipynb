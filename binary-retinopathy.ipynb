{
 "cells": [
  {
   "cell_type": "code",
   "execution_count": 2,
   "metadata": {
    "_cell_guid": "79c7e3d0-c299-4dcb-8224-4455121ee9b0",
    "_uuid": "d629ff2d2480ee46fbb7e2d37f6b5fab8052498a",
    "execution": {
     "iopub.execute_input": "2021-11-13T15:29:12.327087Z",
     "iopub.status.busy": "2021-11-13T15:29:12.326536Z",
     "iopub.status.idle": "2021-11-13T15:29:18.611886Z",
     "shell.execute_reply": "2021-11-13T15:29:18.610620Z",
     "shell.execute_reply.started": "2021-11-13T15:29:12.327025Z"
    },
    "papermill": {
     "duration": 5.370337,
     "end_time": "2021-11-13T15:42:44.769852",
     "exception": false,
     "start_time": "2021-11-13T15:42:39.399515",
     "status": "completed"
    },
    "tags": []
   },
   "outputs": [
    {
     "name": "stderr",
     "output_type": "stream",
     "text": [
      "2022-06-16 11:33:27.681949: I tensorflow/core/util/util.cc:169] oneDNN custom operations are on. You may see slightly different numerical results due to floating-point round-off errors from different computation orders. To turn them off, set the environment variable `TF_ENABLE_ONEDNN_OPTS=0`.\n"
     ]
    }
   ],
   "source": [
    "from tensorflow import lite\n",
    "import tensorflow as tf\n",
    "from tensorflow import keras\n",
    "from tensorflow.keras import layers\n",
    "import numpy as np\n",
    "import pandas as pd\n",
    "import random, os\n",
    "import shutil\n",
    "import matplotlib.pyplot as plt\n",
    "from matplotlib.image import imread\n",
    "from keras.preprocessing.image import ImageDataGenerator\n",
    "from tensorflow.keras.metrics import categorical_accuracy\n",
    "from sklearn.model_selection import train_test_split"
   ]
  },
  {
   "cell_type": "code",
   "execution_count": 4,
   "metadata": {
    "execution": {
     "iopub.execute_input": "2021-11-13T15:29:18.614890Z",
     "iopub.status.busy": "2021-11-13T15:29:18.614249Z",
     "iopub.status.idle": "2021-11-13T15:29:18.666625Z",
     "shell.execute_reply": "2021-11-13T15:29:18.665604Z",
     "shell.execute_reply.started": "2021-11-13T15:29:18.614679Z"
    },
    "papermill": {
     "duration": 0.059619,
     "end_time": "2021-11-13T15:42:44.837297",
     "exception": false,
     "start_time": "2021-11-13T15:42:44.777678",
     "status": "completed"
    },
    "tags": []
   },
   "outputs": [
    {
     "data": {
      "text/html": [
       "<div>\n",
       "<style scoped>\n",
       "    .dataframe tbody tr th:only-of-type {\n",
       "        vertical-align: middle;\n",
       "    }\n",
       "\n",
       "    .dataframe tbody tr th {\n",
       "        vertical-align: top;\n",
       "    }\n",
       "\n",
       "    .dataframe thead th {\n",
       "        text-align: right;\n",
       "    }\n",
       "</style>\n",
       "<table border=\"1\" class=\"dataframe\">\n",
       "  <thead>\n",
       "    <tr style=\"text-align: right;\">\n",
       "      <th></th>\n",
       "      <th>id_code</th>\n",
       "      <th>diagnosis</th>\n",
       "      <th>binary_type</th>\n",
       "      <th>type</th>\n",
       "    </tr>\n",
       "  </thead>\n",
       "  <tbody>\n",
       "    <tr>\n",
       "      <th>0</th>\n",
       "      <td>000c1434d8d7</td>\n",
       "      <td>2</td>\n",
       "      <td>DR</td>\n",
       "      <td>Moderate</td>\n",
       "    </tr>\n",
       "    <tr>\n",
       "      <th>1</th>\n",
       "      <td>001639a390f0</td>\n",
       "      <td>4</td>\n",
       "      <td>DR</td>\n",
       "      <td>Proliferate_DR</td>\n",
       "    </tr>\n",
       "    <tr>\n",
       "      <th>2</th>\n",
       "      <td>0024cdab0c1e</td>\n",
       "      <td>1</td>\n",
       "      <td>DR</td>\n",
       "      <td>Mild</td>\n",
       "    </tr>\n",
       "    <tr>\n",
       "      <th>3</th>\n",
       "      <td>002c21358ce6</td>\n",
       "      <td>0</td>\n",
       "      <td>No_DR</td>\n",
       "      <td>No_DR</td>\n",
       "    </tr>\n",
       "    <tr>\n",
       "      <th>4</th>\n",
       "      <td>005b95c28852</td>\n",
       "      <td>0</td>\n",
       "      <td>No_DR</td>\n",
       "      <td>No_DR</td>\n",
       "    </tr>\n",
       "  </tbody>\n",
       "</table>\n",
       "</div>"
      ],
      "text/plain": [
       "        id_code  diagnosis binary_type            type\n",
       "0  000c1434d8d7          2          DR        Moderate\n",
       "1  001639a390f0          4          DR  Proliferate_DR\n",
       "2  0024cdab0c1e          1          DR            Mild\n",
       "3  002c21358ce6          0       No_DR           No_DR\n",
       "4  005b95c28852          0       No_DR           No_DR"
      ]
     },
     "execution_count": 4,
     "metadata": {},
     "output_type": "execute_result"
    }
   ],
   "source": [
    "# Add an additional column, mapping to the type\n",
    "df = pd.read_csv('train.csv')\n",
    "\n",
    "diagnosis_dict_binary = {\n",
    "    0: 'No_DR',\n",
    "    1: 'DR',\n",
    "    2: 'DR',\n",
    "    3: 'DR',\n",
    "    4: 'DR'\n",
    "}\n",
    "\n",
    "diagnosis_dict = {\n",
    "    0: 'No_DR',\n",
    "    1: 'Mild',\n",
    "    2: 'Moderate',\n",
    "    3: 'Severe',\n",
    "    4: 'Proliferate_DR',\n",
    "}\n",
    "\n",
    "\n",
    "df['binary_type'] =  df['diagnosis'].map(diagnosis_dict_binary.get)\n",
    "df['type'] = df['diagnosis'].map(diagnosis_dict.get)\n",
    "df.head()"
   ]
  },
  {
   "cell_type": "code",
   "execution_count": 5,
   "metadata": {
    "execution": {
     "iopub.execute_input": "2021-11-13T15:29:18.669100Z",
     "iopub.status.busy": "2021-11-13T15:29:18.668409Z",
     "iopub.status.idle": "2021-11-13T15:29:18.872444Z",
     "shell.execute_reply": "2021-11-13T15:29:18.871120Z",
     "shell.execute_reply.started": "2021-11-13T15:29:18.669033Z"
    },
    "papermill": {
     "duration": 0.178174,
     "end_time": "2021-11-13T15:42:45.023194",
     "exception": false,
     "start_time": "2021-11-13T15:42:44.845020",
     "status": "completed"
    },
    "tags": []
   },
   "outputs": [
    {
     "data": {
      "text/plain": [
       "<AxesSubplot:>"
      ]
     },
     "execution_count": 5,
     "metadata": {},
     "output_type": "execute_result"
    },
    {
     "data": {
      "image/png": "[encoded data removed]",
      "text/plain": [
       "<Figure size 432x288 with 1 Axes>"
      ]
     },
     "metadata": {
      "needs_background": "light"
     },
     "output_type": "display_data"
    }
   ],
   "source": [
    "df['type'].value_counts().plot(kind='barh')"
   ]
  },
  {
   "cell_type": "code",
   "execution_count": 6,
   "metadata": {
    "execution": {
     "iopub.execute_input": "2021-11-13T15:29:18.874531Z",
     "iopub.status.busy": "2021-11-13T15:29:18.874114Z",
     "iopub.status.idle": "2021-11-13T15:29:19.018980Z",
     "shell.execute_reply": "2021-11-13T15:29:19.018105Z",
     "shell.execute_reply.started": "2021-11-13T15:29:18.874429Z"
    },
    "papermill": {
     "duration": 0.13094,
     "end_time": "2021-11-13T15:42:45.162496",
     "exception": false,
     "start_time": "2021-11-13T15:42:45.031556",
     "status": "completed"
    },
    "tags": []
   },
   "outputs": [
    {
     "data": {
      "text/plain": [
       "<AxesSubplot:>"
      ]
     },
     "execution_count": 6,
     "metadata": {},
     "output_type": "execute_result"
    },
    {
     "data": {
      "image/png": "[encoded data removed]",
      "text/plain": [
       "<Figure size 432x288 with 1 Axes>"
      ]
     },
     "metadata": {
      "needs_background": "light"
     },
     "output_type": "display_data"
    }
   ],
   "source": [
    "df['binary_type'].value_counts().plot(kind='barh')"
   ]
  },
  {
   "cell_type": "code",
   "execution_count": 7,
   "metadata": {
    "execution": {
     "iopub.execute_input": "2021-11-13T15:29:19.021331Z",
     "iopub.status.busy": "2021-11-13T15:29:19.020899Z",
     "iopub.status.idle": "2021-11-13T15:29:19.051937Z",
     "shell.execute_reply": "2021-11-13T15:29:19.050664Z",
     "shell.execute_reply.started": "2021-11-13T15:29:19.021288Z"
    },
    "papermill": {
     "duration": 0.040633,
     "end_time": "2021-11-13T15:42:45.212151",
     "exception": false,
     "start_time": "2021-11-13T15:42:45.171518",
     "status": "completed"
    },
    "tags": []
   },
   "outputs": [
    {
     "name": "stdout",
     "output_type": "stream",
     "text": [
      "No_DR             1263\n",
      "Moderate           699\n",
      "Mild               258\n",
      "Proliferate_DR     207\n",
      "Severe             135\n",
      "Name: type, dtype: int64 \n",
      "\n",
      "No_DR             271\n",
      "Moderate          150\n",
      "Mild               56\n",
      "Proliferate_DR     44\n",
      "Severe             29\n",
      "Name: type, dtype: int64 \n",
      "\n",
      "No_DR             271\n",
      "Moderate          150\n",
      "Mild               56\n",
      "Proliferate_DR     44\n",
      "Severe             29\n",
      "Name: type, dtype: int64 \n",
      "\n"
     ]
    }
   ],
   "source": [
    "# Split into stratified train, val, and test sets\n",
    "train_intermediate, val = train_test_split(df, test_size = 0.15, stratify = df['type'])\n",
    "train, test = train_test_split(train_intermediate, test_size = 0.15 / (1 - 0.15), stratify = train_intermediate['type'])\n",
    "\n",
    "print(train['type'].value_counts(), '\\n')\n",
    "print(test['type'].value_counts(), '\\n')\n",
    "print(val['type'].value_counts(), '\\n')\n"
   ]
  },
  {
   "cell_type": "code",
   "execution_count": 8,
   "metadata": {
    "execution": {
     "iopub.execute_input": "2021-11-13T15:29:19.054078Z",
     "iopub.status.busy": "2021-11-13T15:29:19.053737Z",
     "iopub.status.idle": "2021-11-13T15:29:19.062815Z",
     "shell.execute_reply": "2021-11-13T15:29:19.061545Z",
     "shell.execute_reply.started": "2021-11-13T15:29:19.054028Z"
    },
    "papermill": {
     "duration": 0.020958,
     "end_time": "2021-11-13T15:42:45.243410",
     "exception": false,
     "start_time": "2021-11-13T15:42:45.222452",
     "status": "completed"
    },
    "tags": []
   },
   "outputs": [],
   "source": [
    "# Create working directories for train/val/test\n",
    "base_dir = ''\n",
    "\n",
    "train_dir = os.path.join(base_dir, 'train')\n",
    "val_dir = os.path.join(base_dir, 'val')\n",
    "test_dir = os.path.join(base_dir, 'test')\n",
    "\n",
    "if os.path.exists(base_dir):\n",
    "    shutil.rmtree(base_dir)\n",
    "\n",
    "if os.path.exists(train_dir):\n",
    "    shutil.rmtree(train_dir)\n",
    "os.makedirs(train_dir)\n",
    "\n",
    "if os.path.exists(val_dir):\n",
    "    shutil.rmtree(val_dir)\n",
    "os.makedirs(val_dir)\n",
    "\n",
    "if os.path.exists(test_dir):\n",
    "    shutil.rmtree(test_dir)\n",
    "os.makedirs(test_dir)\n"
   ]
  },
  {
   "cell_type": "code",
   "execution_count": 9,
   "metadata": {
    "execution": {
     "iopub.execute_input": "2021-11-13T15:29:19.065157Z",
     "iopub.status.busy": "2021-11-13T15:29:19.064523Z",
     "iopub.status.idle": "2021-11-13T15:29:54.095526Z",
     "shell.execute_reply": "2021-11-13T15:29:54.094161Z",
     "shell.execute_reply.started": "2021-11-13T15:29:19.065085Z"
    },
    "papermill": {
     "duration": 33.87362,
     "end_time": "2021-11-13T15:43:19.126580",
     "exception": false,
     "start_time": "2021-11-13T15:42:45.252960",
     "status": "completed"
    },
    "tags": []
   },
   "outputs": [],
   "source": [
    "# Copy images to respective working directory\n",
    "src_dir = 'gaussian_filtered_images'\n",
    "for index, row in train.iterrows():\n",
    "    diagnosis = row['type']\n",
    "    binary_diagnosis = row['binary_type']\n",
    "    id_code = row['id_code'] + \".png\"\n",
    "    srcfile = os.path.join(src_dir, diagnosis, id_code)\n",
    "    dstfile = os.path.join(train_dir, binary_diagnosis)\n",
    "    os.makedirs(dstfile, exist_ok = True)\n",
    "    shutil.copy(srcfile, dstfile)\n",
    "\n",
    "for index, row in val.iterrows():\n",
    "    diagnosis = row['type']\n",
    "    binary_diagnosis = row['binary_type']\n",
    "    id_code = row['id_code'] + \".png\"\n",
    "    srcfile = os.path.join(src_dir, diagnosis, id_code)\n",
    "    dstfile = os.path.join(val_dir, binary_diagnosis)\n",
    "    os.makedirs(dstfile, exist_ok = True)\n",
    "    shutil.copy(srcfile, dstfile)\n",
    " \n",
    "for index, row in test.iterrows():\n",
    "    diagnosis = row['type']\n",
    "    binary_diagnosis = row['binary_type']\n",
    "    id_code = row['id_code'] + \".png\"\n",
    "    srcfile = os.path.join(src_dir, diagnosis, id_code)\n",
    "    dstfile = os.path.join(test_dir, binary_diagnosis)\n",
    "    os.makedirs(dstfile, exist_ok = True)\n",
    "    shutil.copy(srcfile, dstfile)\n"
   ]
  },
  {
   "cell_type": "code",
   "execution_count": 10,
   "metadata": {
    "execution": {
     "iopub.execute_input": "2021-11-13T15:29:54.097708Z",
     "iopub.status.busy": "2021-11-13T15:29:54.097076Z",
     "iopub.status.idle": "2021-11-13T15:29:54.520976Z",
     "shell.execute_reply": "2021-11-13T15:29:54.519738Z",
     "shell.execute_reply.started": "2021-11-13T15:29:54.097643Z"
    },
    "papermill": {
     "duration": 0.332939,
     "end_time": "2021-11-13T15:43:19.470672",
     "exception": false,
     "start_time": "2021-11-13T15:43:19.137733",
     "status": "completed"
    },
    "tags": []
   },
   "outputs": [
    {
     "name": "stdout",
     "output_type": "stream",
     "text": [
      "Found 2562 images belonging to 2 classes.\n",
      "Found 550 images belonging to 2 classes.\n",
      "Found 550 images belonging to 2 classes.\n"
     ]
    }
   ],
   "source": [
    "# Setting up ImageDataGenerator for train/val/test \n",
    "\n",
    "train_path = 'train'\n",
    "val_path = 'val'\n",
    "test_path = 'test'\n",
    "\n",
    "train_batches = ImageDataGenerator(rescale = 1./255).flow_from_directory(train_path, target_size=(224,224), shuffle = True)\n",
    "val_batches = ImageDataGenerator(rescale = 1./255).flow_from_directory(val_path, target_size=(224,224), shuffle = True)\n",
    "test_batches = ImageDataGenerator(rescale = 1./255).flow_from_directory(test_path, target_size=(224,224), shuffle = False)\n"
   ]
  },
  {
   "cell_type": "code",
   "execution_count": 21,
   "metadata": {
    "execution": {
     "iopub.execute_input": "2021-11-13T15:29:54.522684Z",
     "iopub.status.busy": "2021-11-13T15:29:54.522208Z",
     "iopub.status.idle": "2021-11-13T15:40:04.477942Z",
     "shell.execute_reply": "2021-11-13T15:40:04.476690Z",
     "shell.execute_reply.started": "2021-11-13T15:29:54.522628Z"
    },
    "papermill": {
     "duration": 553.230079,
     "end_time": "2021-11-13T15:52:32.710989",
     "exception": false,
     "start_time": "2021-11-13T15:43:19.480910",
     "status": "completed"
    },
    "tags": []
   },
   "outputs": [
    {
     "name": "stdout",
     "output_type": "stream",
     "text": [
      "Epoch 1/100\n",
      "81/81 [==============================] - 10s 123ms/step - loss: 0.6065 - acc: 0.7475 - val_loss: 0.6961 - val_acc: 0.5073\n",
      "Epoch 2/100\n",
      "81/81 [==============================] - 10s 122ms/step - loss: 0.3991 - acc: 0.8528 - val_loss: 0.7095 - val_acc: 0.5073\n",
      "Epoch 3/100\n",
      "81/81 [==============================] - 10s 124ms/step - loss: 0.3344 - acc: 0.8786 - val_loss: 0.6970 - val_acc: 0.5073\n",
      "Epoch 4/100\n",
      "81/81 [==============================] - 11s 132ms/step - loss: 0.2949 - acc: 0.8954 - val_loss: 0.6686 - val_acc: 0.5164\n",
      "Epoch 5/100\n",
      "81/81 [==============================] - 11s 132ms/step - loss: 0.2701 - acc: 0.9094 - val_loss: 0.5701 - val_acc: 0.6327\n",
      "Epoch 6/100\n",
      "81/81 [==============================] - 11s 132ms/step - loss: 0.2460 - acc: 0.9161 - val_loss: 0.4146 - val_acc: 0.8000\n",
      "Epoch 7/100\n",
      "81/81 [==============================] - 11s 132ms/step - loss: 0.2302 - acc: 0.9258 - val_loss: 0.2906 - val_acc: 0.8764\n",
      "Epoch 8/100\n",
      "81/81 [==============================] - 11s 132ms/step - loss: 0.2183 - acc: 0.9278 - val_loss: 0.2436 - val_acc: 0.9091\n",
      "Epoch 9/100\n",
      "81/81 [==============================] - 11s 131ms/step - loss: 0.2037 - acc: 0.9333 - val_loss: 0.2271 - val_acc: 0.9291\n",
      "Epoch 10/100\n",
      "81/81 [==============================] - 11s 133ms/step - loss: 0.1982 - acc: 0.9372 - val_loss: 0.2229 - val_acc: 0.9200\n",
      "Epoch 11/100\n",
      "81/81 [==============================] - 11s 133ms/step - loss: 0.1858 - acc: 0.9391 - val_loss: 0.2166 - val_acc: 0.9273\n",
      "Epoch 12/100\n",
      "81/81 [==============================] - 11s 135ms/step - loss: 0.1780 - acc: 0.9422 - val_loss: 0.2123 - val_acc: 0.9291\n",
      "Epoch 13/100\n",
      "81/81 [==============================] - 11s 132ms/step - loss: 0.1723 - acc: 0.9493 - val_loss: 0.2093 - val_acc: 0.9309\n",
      "Epoch 14/100\n",
      "81/81 [==============================] - 11s 133ms/step - loss: 0.1623 - acc: 0.9508 - val_loss: 0.2056 - val_acc: 0.9309\n",
      "Epoch 15/100\n",
      "81/81 [==============================] - 11s 131ms/step - loss: 0.1602 - acc: 0.9485 - val_loss: 0.2032 - val_acc: 0.9309\n",
      "Epoch 16/100\n",
      "81/81 [==============================] - 11s 131ms/step - loss: 0.1518 - acc: 0.9551 - val_loss: 0.1995 - val_acc: 0.9327\n",
      "Epoch 17/100\n",
      "81/81 [==============================] - 11s 133ms/step - loss: 0.1495 - acc: 0.9575 - val_loss: 0.1978 - val_acc: 0.9327\n",
      "Epoch 18/100\n",
      "81/81 [==============================] - 11s 135ms/step - loss: 0.1448 - acc: 0.9555 - val_loss: 0.1961 - val_acc: 0.9364\n",
      "Epoch 19/100\n",
      "81/81 [==============================] - 11s 132ms/step - loss: 0.1392 - acc: 0.9571 - val_loss: 0.1935 - val_acc: 0.9327\n",
      "Epoch 20/100\n",
      "81/81 [==============================] - 11s 132ms/step - loss: 0.1357 - acc: 0.9571 - val_loss: 0.1917 - val_acc: 0.9327\n",
      "Epoch 21/100\n",
      "81/81 [==============================] - 11s 135ms/step - loss: 0.1284 - acc: 0.9594 - val_loss: 0.1906 - val_acc: 0.9345\n",
      "Epoch 22/100\n",
      "81/81 [==============================] - 11s 133ms/step - loss: 0.1215 - acc: 0.9641 - val_loss: 0.1900 - val_acc: 0.9327\n",
      "Epoch 23/100\n",
      "81/81 [==============================] - 11s 133ms/step - loss: 0.1225 - acc: 0.9617 - val_loss: 0.1879 - val_acc: 0.9382\n",
      "Epoch 24/100\n",
      "81/81 [==============================] - 11s 134ms/step - loss: 0.1186 - acc: 0.9672 - val_loss: 0.1868 - val_acc: 0.9400\n",
      "Epoch 25/100\n",
      "81/81 [==============================] - 11s 132ms/step - loss: 0.1142 - acc: 0.9676 - val_loss: 0.1857 - val_acc: 0.9364\n",
      "Epoch 26/100\n",
      "81/81 [==============================] - 11s 132ms/step - loss: 0.1123 - acc: 0.9668 - val_loss: 0.1857 - val_acc: 0.9364\n",
      "Epoch 27/100\n",
      "81/81 [==============================] - 11s 131ms/step - loss: 0.1025 - acc: 0.9688 - val_loss: 0.1835 - val_acc: 0.9400\n",
      "Epoch 28/100\n",
      "81/81 [==============================] - 11s 133ms/step - loss: 0.1011 - acc: 0.9719 - val_loss: 0.1839 - val_acc: 0.9418\n",
      "Epoch 29/100\n",
      "81/81 [==============================] - 11s 131ms/step - loss: 0.1014 - acc: 0.9723 - val_loss: 0.1830 - val_acc: 0.9418\n",
      "Epoch 30/100\n",
      "81/81 [==============================] - 11s 131ms/step - loss: 0.0985 - acc: 0.9738 - val_loss: 0.1802 - val_acc: 0.9473\n",
      "Epoch 31/100\n",
      "81/81 [==============================] - 11s 133ms/step - loss: 0.0960 - acc: 0.9754 - val_loss: 0.1789 - val_acc: 0.9400\n",
      "Epoch 32/100\n",
      "81/81 [==============================] - 11s 132ms/step - loss: 0.0895 - acc: 0.9762 - val_loss: 0.1789 - val_acc: 0.9418\n",
      "Epoch 33/100\n",
      "81/81 [==============================] - 11s 133ms/step - loss: 0.0826 - acc: 0.9789 - val_loss: 0.1816 - val_acc: 0.9436\n",
      "Epoch 34/100\n",
      "81/81 [==============================] - 11s 133ms/step - loss: 0.0858 - acc: 0.9789 - val_loss: 0.1800 - val_acc: 0.9455\n",
      "Epoch 35/100\n",
      "81/81 [==============================] - 11s 133ms/step - loss: 0.0830 - acc: 0.9789 - val_loss: 0.1838 - val_acc: 0.9400\n",
      "Epoch 36/100\n",
      "81/81 [==============================] - 11s 134ms/step - loss: 0.0777 - acc: 0.9793 - val_loss: 0.1800 - val_acc: 0.9455\n",
      "Epoch 37/100\n",
      "81/81 [==============================] - 11s 133ms/step - loss: 0.0750 - acc: 0.9817 - val_loss: 0.1789 - val_acc: 0.9455\n",
      "Epoch 38/100\n",
      "81/81 [==============================] - 11s 134ms/step - loss: 0.0761 - acc: 0.9785 - val_loss: 0.1775 - val_acc: 0.9455\n",
      "Epoch 39/100\n",
      "81/81 [==============================] - 11s 133ms/step - loss: 0.0711 - acc: 0.9836 - val_loss: 0.1779 - val_acc: 0.9455\n",
      "Epoch 40/100\n",
      "81/81 [==============================] - 11s 133ms/step - loss: 0.0689 - acc: 0.9820 - val_loss: 0.1780 - val_acc: 0.9473\n",
      "Epoch 41/100\n",
      "81/81 [==============================] - 11s 133ms/step - loss: 0.0684 - acc: 0.9820 - val_loss: 0.1795 - val_acc: 0.9436\n",
      "Epoch 42/100\n",
      "81/81 [==============================] - 11s 133ms/step - loss: 0.0664 - acc: 0.9852 - val_loss: 0.1817 - val_acc: 0.9473\n",
      "Epoch 43/100\n",
      "81/81 [==============================] - 11s 133ms/step - loss: 0.0627 - acc: 0.9852 - val_loss: 0.1778 - val_acc: 0.9491\n",
      "Epoch 44/100\n",
      "81/81 [==============================] - 11s 133ms/step - loss: 0.0625 - acc: 0.9844 - val_loss: 0.1789 - val_acc: 0.9509\n",
      "Epoch 45/100\n",
      "81/81 [==============================] - 11s 133ms/step - loss: 0.0592 - acc: 0.9863 - val_loss: 0.1815 - val_acc: 0.9509\n",
      "Epoch 46/100\n",
      "81/81 [==============================] - 11s 132ms/step - loss: 0.0548 - acc: 0.9899 - val_loss: 0.1788 - val_acc: 0.9491\n",
      "Epoch 47/100\n",
      "81/81 [==============================] - 11s 133ms/step - loss: 0.0527 - acc: 0.9926 - val_loss: 0.1771 - val_acc: 0.9509\n",
      "Epoch 48/100\n",
      "81/81 [==============================] - 11s 135ms/step - loss: 0.0522 - acc: 0.9895 - val_loss: 0.1799 - val_acc: 0.9545\n",
      "Epoch 49/100\n",
      "81/81 [==============================] - 11s 132ms/step - loss: 0.0511 - acc: 0.9875 - val_loss: 0.1802 - val_acc: 0.9509\n",
      "Epoch 50/100\n",
      "81/81 [==============================] - 11s 131ms/step - loss: 0.0485 - acc: 0.9895 - val_loss: 0.1803 - val_acc: 0.9527\n",
      "Epoch 51/100\n",
      "81/81 [==============================] - 11s 130ms/step - loss: 0.0515 - acc: 0.9867 - val_loss: 0.1824 - val_acc: 0.9509\n",
      "Epoch 52/100\n",
      "81/81 [==============================] - 11s 131ms/step - loss: 0.0470 - acc: 0.9910 - val_loss: 0.1800 - val_acc: 0.9527\n",
      "Epoch 53/100\n",
      "81/81 [==============================] - 11s 130ms/step - loss: 0.0472 - acc: 0.9918 - val_loss: 0.1832 - val_acc: 0.9509\n",
      "Epoch 54/100\n",
      "81/81 [==============================] - 11s 129ms/step - loss: 0.0463 - acc: 0.9887 - val_loss: 0.1812 - val_acc: 0.9527\n",
      "Epoch 55/100\n",
      "81/81 [==============================] - 11s 131ms/step - loss: 0.0418 - acc: 0.9902 - val_loss: 0.1813 - val_acc: 0.9509\n",
      "Epoch 56/100\n",
      "81/81 [==============================] - 11s 131ms/step - loss: 0.0384 - acc: 0.9938 - val_loss: 0.1829 - val_acc: 0.9509\n",
      "Epoch 57/100\n",
      "81/81 [==============================] - 11s 131ms/step - loss: 0.0392 - acc: 0.9941 - val_loss: 0.1819 - val_acc: 0.9527\n",
      "Epoch 58/100\n",
      "81/81 [==============================] - 11s 131ms/step - loss: 0.0407 - acc: 0.9914 - val_loss: 0.2094 - val_acc: 0.9236\n",
      "Epoch 59/100\n",
      "81/81 [==============================] - 10s 129ms/step - loss: 0.0380 - acc: 0.9922 - val_loss: 0.1803 - val_acc: 0.9545\n",
      "Epoch 60/100\n",
      "81/81 [==============================] - 11s 132ms/step - loss: 0.0359 - acc: 0.9941 - val_loss: 0.1809 - val_acc: 0.9509\n",
      "Epoch 61/100\n",
      "81/81 [==============================] - 11s 131ms/step - loss: 0.0375 - acc: 0.9945 - val_loss: 0.1910 - val_acc: 0.9491\n",
      "Epoch 62/100\n",
      "81/81 [==============================] - 11s 131ms/step - loss: 0.0356 - acc: 0.9930 - val_loss: 0.1857 - val_acc: 0.9509\n",
      "Epoch 63/100\n",
      "81/81 [==============================] - 11s 131ms/step - loss: 0.0343 - acc: 0.9930 - val_loss: 0.1840 - val_acc: 0.9491\n",
      "Epoch 64/100\n",
      "81/81 [==============================] - 11s 132ms/step - loss: 0.0306 - acc: 0.9957 - val_loss: 0.1844 - val_acc: 0.9491\n",
      "Epoch 65/100\n",
      "81/81 [==============================] - 11s 132ms/step - loss: 0.0295 - acc: 0.9961 - val_loss: 0.1847 - val_acc: 0.9509\n",
      "Epoch 66/100\n",
      "81/81 [==============================] - 11s 131ms/step - loss: 0.0292 - acc: 0.9961 - val_loss: 0.1879 - val_acc: 0.9527\n",
      "Epoch 67/100\n",
      "81/81 [==============================] - 11s 130ms/step - loss: 0.0275 - acc: 0.9965 - val_loss: 0.1874 - val_acc: 0.9509\n",
      "Epoch 68/100\n",
      "81/81 [==============================] - 11s 131ms/step - loss: 0.0276 - acc: 0.9980 - val_loss: 0.1892 - val_acc: 0.9491\n",
      "Epoch 69/100\n",
      "81/81 [==============================] - 11s 130ms/step - loss: 0.0282 - acc: 0.9926 - val_loss: 0.1899 - val_acc: 0.9455\n",
      "Epoch 70/100\n",
      "81/81 [==============================] - 11s 131ms/step - loss: 0.0273 - acc: 0.9961 - val_loss: 0.1891 - val_acc: 0.9473\n",
      "Epoch 71/100\n",
      "81/81 [==============================] - 11s 131ms/step - loss: 0.0263 - acc: 0.9961 - val_loss: 0.1905 - val_acc: 0.9509\n",
      "Epoch 72/100\n",
      "81/81 [==============================] - 11s 133ms/step - loss: 0.0239 - acc: 0.9961 - val_loss: 0.1914 - val_acc: 0.9527\n",
      "Epoch 73/100\n",
      "81/81 [==============================] - 11s 133ms/step - loss: 0.0223 - acc: 0.9977 - val_loss: 0.1909 - val_acc: 0.9491\n",
      "Epoch 74/100\n",
      "81/81 [==============================] - 11s 132ms/step - loss: 0.0203 - acc: 0.9980 - val_loss: 0.1944 - val_acc: 0.9509\n",
      "Epoch 75/100\n",
      "81/81 [==============================] - 11s 130ms/step - loss: 0.0228 - acc: 0.9969 - val_loss: 0.1945 - val_acc: 0.9509\n",
      "Epoch 76/100\n",
      "81/81 [==============================] - 11s 131ms/step - loss: 0.0202 - acc: 0.9973 - val_loss: 0.1973 - val_acc: 0.9455\n",
      "Epoch 77/100\n",
      "81/81 [==============================] - 11s 132ms/step - loss: 0.0188 - acc: 0.9977 - val_loss: 0.1978 - val_acc: 0.9509\n",
      "Epoch 78/100\n",
      "81/81 [==============================] - 11s 131ms/step - loss: 0.0183 - acc: 0.9980 - val_loss: 0.2078 - val_acc: 0.9418\n",
      "Epoch 79/100\n",
      "81/81 [==============================] - 11s 140ms/step - loss: 0.0183 - acc: 0.9984 - val_loss: 0.2020 - val_acc: 0.9509\n",
      "Epoch 80/100\n",
      "81/81 [==============================] - 11s 135ms/step - loss: 0.0170 - acc: 0.9980 - val_loss: 0.1964 - val_acc: 0.9527\n",
      "Epoch 81/100\n",
      "81/81 [==============================] - 11s 134ms/step - loss: 0.0192 - acc: 0.9969 - val_loss: 0.1920 - val_acc: 0.9455\n",
      "Epoch 82/100\n",
      "81/81 [==============================] - 11s 131ms/step - loss: 0.0183 - acc: 0.9980 - val_loss: 0.1951 - val_acc: 0.9509\n",
      "Epoch 83/100\n",
      "81/81 [==============================] - 11s 131ms/step - loss: 0.0194 - acc: 0.9973 - val_loss: 0.1981 - val_acc: 0.9400\n",
      "Epoch 84/100\n",
      "81/81 [==============================] - 11s 132ms/step - loss: 0.0178 - acc: 0.9984 - val_loss: 0.1969 - val_acc: 0.9473\n",
      "Epoch 85/100\n",
      "81/81 [==============================] - 11s 132ms/step - loss: 0.0163 - acc: 0.9969 - val_loss: 0.2029 - val_acc: 0.9509\n",
      "Epoch 86/100\n",
      "81/81 [==============================] - 11s 132ms/step - loss: 0.0146 - acc: 0.9996 - val_loss: 0.2040 - val_acc: 0.9509\n",
      "Epoch 87/100\n",
      "81/81 [==============================] - 10s 129ms/step - loss: 0.0147 - acc: 0.9984 - val_loss: 0.2022 - val_acc: 0.9509\n",
      "Epoch 88/100\n",
      "81/81 [==============================] - 11s 130ms/step - loss: 0.0151 - acc: 0.9980 - val_loss: 0.2027 - val_acc: 0.9509\n",
      "Epoch 89/100\n",
      "81/81 [==============================] - 11s 129ms/step - loss: 0.0143 - acc: 0.9992 - val_loss: 0.2034 - val_acc: 0.9509\n",
      "Epoch 90/100\n",
      "81/81 [==============================] - 11s 132ms/step - loss: 0.0127 - acc: 0.9996 - val_loss: 0.2035 - val_acc: 0.9509\n",
      "Epoch 91/100\n",
      "81/81 [==============================] - 11s 131ms/step - loss: 0.0134 - acc: 0.9977 - val_loss: 0.2068 - val_acc: 0.9509\n",
      "Epoch 92/100\n",
      "81/81 [==============================] - 11s 134ms/step - loss: 0.0139 - acc: 0.9988 - val_loss: 0.2067 - val_acc: 0.9509\n",
      "Epoch 93/100\n",
      "81/81 [==============================] - 10s 127ms/step - loss: 0.0123 - acc: 0.9980 - val_loss: 0.2063 - val_acc: 0.9491\n",
      "Epoch 94/100\n",
      "81/81 [==============================] - 10s 127ms/step - loss: 0.0125 - acc: 0.9988 - val_loss: 0.2074 - val_acc: 0.9509\n",
      "Epoch 95/100\n",
      "81/81 [==============================] - 11s 131ms/step - loss: 0.0122 - acc: 0.9984 - val_loss: 0.2116 - val_acc: 0.9527\n",
      "Epoch 96/100\n",
      "81/81 [==============================] - 11s 131ms/step - loss: 0.0110 - acc: 0.9977 - val_loss: 0.2137 - val_acc: 0.9509\n",
      "Epoch 97/100\n",
      "81/81 [==============================] - 11s 130ms/step - loss: 0.0106 - acc: 0.9988 - val_loss: 0.2175 - val_acc: 0.9491\n",
      "Epoch 98/100\n",
      "81/81 [==============================] - 11s 131ms/step - loss: 0.0135 - acc: 0.9969 - val_loss: 0.2242 - val_acc: 0.9491\n",
      "Epoch 99/100\n",
      "81/81 [==============================] - 11s 130ms/step - loss: 0.0103 - acc: 0.9996 - val_loss: 0.2173 - val_acc: 0.9509\n",
      "Epoch 100/100\n",
      "81/81 [==============================] - 11s 130ms/step - loss: 0.0104 - acc: 0.9984 - val_loss: 0.2140 - val_acc: 0.9491\n"
     ]
    }
   ],
   "source": [
    "# Building the model\n",
    "\n",
    "model = tf.keras.Sequential([\n",
    "    layers.Conv2D(8, (3,3), padding=\"valid\", input_shape=(224,224,3), activation = 'relu'),\n",
    "    layers.MaxPooling2D(pool_size=(2,2)),\n",
    "    layers.BatchNormalization(),\n",
    "    \n",
    "    layers.Conv2D(16, (3,3), padding=\"valid\", activation = 'relu'),\n",
    "    layers.MaxPooling2D(pool_size=(2,2)),\n",
    "    layers.BatchNormalization(),\n",
    "    \n",
    "    layers.Conv2D(32, (3,3), padding=\"valid\", activation = 'sigmoid'),\n",
    "    layers.MaxPooling2D(pool_size=(2,2)),\n",
    "    layers.BatchNormalization(),\n",
    "\n",
    "    layers.Conv2D(64, (3,3), padding=\"valid\", activation = 'relu'),\n",
    "    layers.MaxPooling2D(pool_size=(2,2)),\n",
    "    layers.BatchNormalization(),\n",
    "\n",
    "    layers.Conv2D(128, (4,4), padding=\"valid\", activation = 'relu'),\n",
    "    layers.MaxPooling2D(pool_size=(2,2)),\n",
    "    layers.BatchNormalization(),\n",
    " \n",
    "    layers.Flatten(),\n",
    "    layers.Dense(128, activation = 'relu'),\n",
    "    layers.Dropout(0.27),\n",
    "    layers.Dense(2, activation = 'softmax')\n",
    "])\n",
    "\n",
    "model.compile(optimizer=tf.keras.optimizers.Adam(lr = 1e-5),\n",
    "              loss=tf.keras.losses.BinaryCrossentropy(),\n",
    "              metrics=['acc'])\n",
    "\n",
    "history = model.fit(train_batches,\n",
    "                    epochs=100,\n",
    "                    validation_data=val_batches)"
   ]
  },
  {
   "cell_type": "code",
   "execution_count": 22,
   "metadata": {
    "execution": {
     "iopub.execute_input": "2021-11-13T15:40:26.552989Z",
     "iopub.status.busy": "2021-11-13T15:40:26.552158Z",
     "iopub.status.idle": "2021-11-13T15:40:30.241877Z",
     "shell.execute_reply": "2021-11-13T15:40:30.240868Z",
     "shell.execute_reply.started": "2021-11-13T15:40:26.552860Z"
    },
    "papermill": {
     "duration": 3.725333,
     "end_time": "2021-11-13T15:52:36.684994",
     "exception": false,
     "start_time": "2021-11-13T15:52:32.959661",
     "status": "completed"
    },
    "tags": []
   },
   "outputs": [
    {
     "name": "stdout",
     "output_type": "stream",
     "text": [
      " 1/18 [>.............................] - ETA: 1s - loss: 0.1907 - acc: 0.9375"
     ]
    },
    {
     "name": "stderr",
     "output_type": "stream",
     "text": [
      "/tmp/ipykernel_30813/4010420734.py:1: UserWarning: `Model.evaluate_generator` is deprecated and will be removed in a future version. Please use `Model.evaluate`, which supports generators.\n",
      "  loss, acc = model.evaluate_generator(test_batches, verbose=1)\n"
     ]
    },
    {
     "name": "stdout",
     "output_type": "stream",
     "text": [
      "18/18 [==============================] - 1s 58ms/step - loss: 0.2117 - acc: 0.9382\n",
      "Accuracy:  0.9381818175315857\n"
     ]
    }
   ],
   "source": [
    "loss, acc = model.evaluate_generator(test_batches, verbose=1)\n",
    "# print(\"Loss: \", loss)\n",
    "print(\"Accuracy: \", acc)\n"
   ]
  }
 ],
 "metadata": {
  "interpreter": {
   "hash": "916dbcbb3f70747c44a77c7bcd40155683ae19c65e1c03b4aa3499c5328201f1"
  },
  "kernelspec": {
   "display_name": "Python 3.10.4 64-bit",
   "language": "python",
   "name": "python3"
  },
  "language_info": {
   "codemirror_mode": {
    "name": "ipython",
    "version": 3
   },
   "file_extension": ".py",
   "mimetype": "text/x-python",
   "name": "python",
   "nbconvert_exporter": "python",
   "pygments_lexer": "ipython3",
   "version": "3.10.4"
  },
  "papermill": {
   "duration": 602.481608,
   "end_time": "2021-11-13T15:52:38.045101",
   "environment_variables": {},
   "exception": null,
   "input_path": "__notebook__.ipynb",
   "output_path": "__notebook__.ipynb",
   "parameters": {},
   "start_time": "2021-11-13T15:42:35.563493",
   "version": "1.2.1"
  }
 },
 "nbformat": 4,
 "nbformat_minor": 4
}
